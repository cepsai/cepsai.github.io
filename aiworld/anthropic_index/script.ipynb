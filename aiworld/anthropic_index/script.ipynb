{
 "cells": [
  {
   "cell_type": "code",
   "execution_count": 3,
   "id": "86d0b590",
   "metadata": {},
   "outputs": [],
   "source": [
    "import json\n",
    "from pathlib import Path\n",
    "route = Path(\"\")\n",
    "\n",
    "files = [\"NL.json\",\"IL.json\"] #All the data that you want, please has to be consistent\n",
    "\n",
    "combined = []\n",
    "for fname in files:\n",
    "    with open(route / fname, \"r\", encoding=\"utf-8\") as f:\n",
    "        obj = json.load(f)\n",
    "        combined.extend(obj)  \n",
    "\n",
    "with open(route / \"index_anthropic.html\", \"r\", encoding=\"utf-8\") as f: #HTML go here\n",
    "    html = f.read()\n",
    "\n",
    "html = html.replace(\"{{DATA}}\", json.dumps(combined, ensure_ascii=False))\n",
    "with open(route / \"viz_ready.html\", \"w\", encoding=\"utf-8\") as f:\n",
    "    f.write(html)\n",
    "\n"
   ]
  }
 ],
 "metadata": {
  "kernelspec": {
   "display_name": "Python 3",
   "language": "python",
   "name": "python3"
  },
  "language_info": {
   "codemirror_mode": {
    "name": "ipython",
    "version": 3
   },
   "file_extension": ".py",
   "mimetype": "text/x-python",
   "name": "python",
   "nbconvert_exporter": "python",
   "pygments_lexer": "ipython3",
   "version": "3.10.0"
  }
 },
 "nbformat": 4,
 "nbformat_minor": 5
}
